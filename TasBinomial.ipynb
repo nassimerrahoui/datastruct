{
 "cells": [
  {
   "cell_type": "markdown",
   "metadata": {},
   "source": [
    "# Definition de la classe Node"
   ]
  },
  {
   "cell_type": "code",
   "execution_count": 1,
   "metadata": {},
   "outputs": [],
   "source": [
    "import graphviz as gv\n",
    "import math as m\n",
    "import os as file\n",
    "\n",
    "class Node:\n",
    "    def __init__(self,k):\n",
    "        self.pere = None # Node pere\n",
    "        self.fils = None # Node fils \n",
    "        self.frere = None # Node frere \n",
    "        self.cle = k # clé du Node\n",
    "        self.degre = 0 # degré du Node\n",
    "        \n",
    "    def est_feuille(self):\n",
    "        return ((self.fils == None) and (self.frere == None));\n",
    "    \n",
    "    # Node min\n",
    "    def findNodeMin():\n",
    "        x = self\n",
    "        y = self\n",
    "        min = x.key\n",
    "        while (x != null):\n",
    "            if (x.key < min):\n",
    "                y = x\n",
    "                min = x.key\n",
    "            else:\n",
    "                x = x.sibling\n",
    "        return y\n",
    "    \n",
    "    # Permet d'afficher l'arbre\n",
    "    def plot(self):\n",
    "        gtree = gv.Digraph(format='png')\n",
    "        return self.to_graph(gtree,str(self.cle))\n",
    "    \n",
    "    def to_graph(self, g,prefixe):\n",
    "        \"\"\" construit une représentation de l'arbre pour pouvoir\n",
    "            l'afficher\n",
    "        \"\"\"\n",
    "        if self.est_feuille():\n",
    "            g.node(prefixe,str(self.cle),shape='ellipse')\n",
    "        else:\n",
    "            g.node(prefixe,str(self.cle),shape='ellipse')\n",
    "            self.ssAG.to_graph(g,prefixe+\"g\")\n",
    "            self.ssAD.to_graph(g,prefixe+\"d\")\n",
    "            g.edge(prefixe,prefixe+\"g\")\n",
    "            g.edge(prefixe,prefixe+\"d\")\n",
    "        return g"
   ]
  },
  {
   "cell_type": "markdown",
   "metadata": {},
   "source": [
    "# Définition de la classe TasBinomial"
   ]
  },
  {
   "cell_type": "code",
   "execution_count": null,
   "metadata": {},
   "outputs": [],
   "source": [
    "import graphviz as gv\n",
    "import math as m\n",
    "import os as file\n",
    "\n",
    "class TasBinomial:\n",
    "    def __init__(self):\n",
    "        self.nodes = None # Nodes du tas\n",
    "        self.size = 0 # Taille du tas"
   ]
  },
  {
   "cell_type": "markdown",
   "metadata": {},
   "source": [
    "# Fonction Lien binomial"
   ]
  },
  {
   "cell_type": "code",
   "execution_count": 4,
   "metadata": {},
   "outputs": [],
   "source": [
    "# Fusionne deux tas binomiaux dont les racines ont le même degré.\n",
    "def lienBinomial(y,z):\n",
    "    y.setPere(z)\n",
    "    y.setFrere(z.getFils())\n",
    "    z.setFils(y)\n",
    "    z.setDegre(z.getDegre() + 1)"
   ]
  },
  {
   "cell_type": "markdown",
   "metadata": {},
   "source": [
    "# Fonction Ajout"
   ]
  },
  {
   "cell_type": "code",
   "execution_count": 9,
   "metadata": {},
   "outputs": [],
   "source": [
    "def ajout(tas,val):\n",
    "    B0 = ArbreBinaire()\n",
    "    B0.setCle(val)\n",
    "    i = 0\n",
    "    while(true): # tas contient déjà un Bi TO DO\n",
    "        # enlever Bi de H TO DO\n",
    "        Bj = lienBinomial(Bi,B0)\n",
    "        i = i + 1\n",
    "# Mettre Bi* comme Bi dans H en mettant à jour le degré de sa racine TO DO\n"
   ]
  }
 ],
 "metadata": {
  "kernelspec": {
   "display_name": "Python 3",
   "language": "python",
   "name": "python3"
  },
  "language_info": {
   "codemirror_mode": {
    "name": "ipython",
    "version": 3
   },
   "file_extension": ".py",
   "mimetype": "text/x-python",
   "name": "python",
   "nbconvert_exporter": "python",
   "pygments_lexer": "ipython3",
   "version": "3.7.0"
  }
 },
 "nbformat": 4,
 "nbformat_minor": 2
}
